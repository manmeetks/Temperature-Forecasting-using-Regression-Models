{
 "cells": [
  {
   "cell_type": "markdown",
   "id": "d9ae04e8",
   "metadata": {},
   "source": [
    "PROJECT CODE:"
   ]
  },
  {
   "cell_type": "markdown",
   "id": "3a6129c2",
   "metadata": {},
   "source": [
    "Steps taken for data preperation:\n",
    "1) Dataset explanation.Ridge regression is a technique used to eliminate multicollinearity in data models.\n",
    "2)Importing dataset in python.\n",
    "3)checking for outliers.then doing outlier treatment accordingly.\n",
    "4)checking for null values.\n",
    "5)checking for categorical variables.Then creating dummy variables for it.\n",
    "6)deleting columns which will have zero to no contribution in the analysis. \n",
    "7)studying the correalation analysis of the columns and deleting the columns accordingly."
   ]
  },
  {
   "cell_type": "markdown",
   "id": "fb57f91a",
   "metadata": {},
   "source": [
    "I have selected 3 models Multi Linear Regression, Ridge Regression and Lasso Regression.\n",
    "multi linear regression-it is being selected because in our quantitative dataset,We have more number of independent variables and single dependent variable.\n",
    "lasso regression-       Lasso regression is a regularization technique. It is used over regression methods for a more accurate prediction. This model uses shrinkage.\n",
    "                        The lasso procedure encourages simple, sparse models .\n",
    "Ridge Regression- Ridge regression is a technique used over regression models to eliminate multicollinearity in data models,to avoid overfitting.\n",
    "                  \n"
   ]
  },
  {
   "cell_type": "code",
   "execution_count": 645,
   "id": "d8d8c452",
   "metadata": {},
   "outputs": [],
   "source": [
    "import pandas as pd                              #imporing libraries\n",
    "import numpy as np \n",
    "import seaborn as sns\n",
    "from sklearn.linear_model import Ridge\n",
    "from sklearn.linear_model import LinearRegression\n",
    "from pandas import Series, DataFrame\n",
    "from sklearn.model_selection import train_test_split\n",
    "from sklearn import preprocessing\n",
    "from sklearn.linear_model import Lasso, Ridge\n",
    "from sklearn.preprocessing import StandardScaler\n",
    "from sklearn.linear_model import Ridge\n",
    "from sklearn.metrics import r2_score\n"
   ]
  },
  {
   "cell_type": "markdown",
   "id": "f5847b13",
   "metadata": {},
   "source": [
    "MULTI LINIEAR REGRESSION"
   ]
  },
  {
   "cell_type": "code",
   "execution_count": 646,
   "id": "d1874691",
   "metadata": {},
   "outputs": [],
   "source": [
    "df=pd.read_excel(r'C:\\Users\\sidhu\\OneDrive\\Desktop\\onlytable.xlsx',sheet_name='onlytable') # importing table in notebook"
   ]
  },
  {
   "cell_type": "code",
   "execution_count": 647,
   "id": "499c6a49",
   "metadata": {
    "scrolled": true
   },
   "outputs": [
    {
     "data": {
      "text/html": [
       "<div>\n",
       "<style scoped>\n",
       "    .dataframe tbody tr th:only-of-type {\n",
       "        vertical-align: middle;\n",
       "    }\n",
       "\n",
       "    .dataframe tbody tr th {\n",
       "        vertical-align: top;\n",
       "    }\n",
       "\n",
       "    .dataframe thead th {\n",
       "        text-align: right;\n",
       "    }\n",
       "</style>\n",
       "<table border=\"1\" class=\"dataframe\">\n",
       "  <thead>\n",
       "    <tr style=\"text-align: right;\">\n",
       "      <th></th>\n",
       "      <th>S. NO</th>\n",
       "      <th>RPM</th>\n",
       "      <th>FR</th>\n",
       "      <th>AGS</th>\n",
       "      <th>UP</th>\n",
       "      <th>Temp values</th>\n",
       "    </tr>\n",
       "  </thead>\n",
       "  <tbody>\n",
       "    <tr>\n",
       "      <th>0</th>\n",
       "      <td>1</td>\n",
       "      <td>500</td>\n",
       "      <td>10</td>\n",
       "      <td>260</td>\n",
       "      <td>0</td>\n",
       "      <td>16.5</td>\n",
       "    </tr>\n",
       "    <tr>\n",
       "      <th>1</th>\n",
       "      <td>2</td>\n",
       "      <td>500</td>\n",
       "      <td>10</td>\n",
       "      <td>100</td>\n",
       "      <td>0</td>\n",
       "      <td>11.9</td>\n",
       "    </tr>\n",
       "    <tr>\n",
       "      <th>2</th>\n",
       "      <td>3</td>\n",
       "      <td>700</td>\n",
       "      <td>15</td>\n",
       "      <td>180</td>\n",
       "      <td>25</td>\n",
       "      <td>15.8</td>\n",
       "    </tr>\n",
       "    <tr>\n",
       "      <th>3</th>\n",
       "      <td>4</td>\n",
       "      <td>800</td>\n",
       "      <td>15</td>\n",
       "      <td>180</td>\n",
       "      <td>75</td>\n",
       "      <td>12.8</td>\n",
       "    </tr>\n",
       "    <tr>\n",
       "      <th>4</th>\n",
       "      <td>5</td>\n",
       "      <td>900</td>\n",
       "      <td>15</td>\n",
       "      <td>340</td>\n",
       "      <td>0</td>\n",
       "      <td>26.2</td>\n",
       "    </tr>\n",
       "  </tbody>\n",
       "</table>\n",
       "</div>"
      ],
      "text/plain": [
       "   S. NO  RPM  FR  AGS  UP  Temp values\n",
       "0      1  500  10  260   0         16.5\n",
       "1      2  500  10  100   0         11.9\n",
       "2      3  700  15  180  25         15.8\n",
       "3      4  800  15  180  75         12.8\n",
       "4      5  900  15  340   0         26.2"
      ]
     },
     "execution_count": 647,
     "metadata": {},
     "output_type": "execute_result"
    }
   ],
   "source": [
    "df.head()"
   ]
  },
  {
   "cell_type": "code",
   "execution_count": 648,
   "id": "310ea349",
   "metadata": {},
   "outputs": [
    {
     "data": {
      "text/html": [
       "<div>\n",
       "<style scoped>\n",
       "    .dataframe tbody tr th:only-of-type {\n",
       "        vertical-align: middle;\n",
       "    }\n",
       "\n",
       "    .dataframe tbody tr th {\n",
       "        vertical-align: top;\n",
       "    }\n",
       "\n",
       "    .dataframe thead th {\n",
       "        text-align: right;\n",
       "    }\n",
       "</style>\n",
       "<table border=\"1\" class=\"dataframe\">\n",
       "  <thead>\n",
       "    <tr style=\"text-align: right;\">\n",
       "      <th></th>\n",
       "      <th>S. NO</th>\n",
       "      <th>RPM</th>\n",
       "      <th>FR</th>\n",
       "      <th>AGS</th>\n",
       "      <th>UP</th>\n",
       "      <th>Temp values</th>\n",
       "    </tr>\n",
       "  </thead>\n",
       "  <tbody>\n",
       "    <tr>\n",
       "      <th>0</th>\n",
       "      <td>1</td>\n",
       "      <td>500</td>\n",
       "      <td>10</td>\n",
       "      <td>260</td>\n",
       "      <td>0</td>\n",
       "      <td>16.5</td>\n",
       "    </tr>\n",
       "    <tr>\n",
       "      <th>1</th>\n",
       "      <td>2</td>\n",
       "      <td>500</td>\n",
       "      <td>10</td>\n",
       "      <td>100</td>\n",
       "      <td>0</td>\n",
       "      <td>11.9</td>\n",
       "    </tr>\n",
       "    <tr>\n",
       "      <th>2</th>\n",
       "      <td>3</td>\n",
       "      <td>700</td>\n",
       "      <td>15</td>\n",
       "      <td>180</td>\n",
       "      <td>25</td>\n",
       "      <td>15.8</td>\n",
       "    </tr>\n",
       "    <tr>\n",
       "      <th>3</th>\n",
       "      <td>4</td>\n",
       "      <td>800</td>\n",
       "      <td>15</td>\n",
       "      <td>180</td>\n",
       "      <td>75</td>\n",
       "      <td>12.8</td>\n",
       "    </tr>\n",
       "    <tr>\n",
       "      <th>4</th>\n",
       "      <td>5</td>\n",
       "      <td>900</td>\n",
       "      <td>15</td>\n",
       "      <td>340</td>\n",
       "      <td>0</td>\n",
       "      <td>26.2</td>\n",
       "    </tr>\n",
       "    <tr>\n",
       "      <th>...</th>\n",
       "      <td>...</td>\n",
       "      <td>...</td>\n",
       "      <td>...</td>\n",
       "      <td>...</td>\n",
       "      <td>...</td>\n",
       "      <td>...</td>\n",
       "    </tr>\n",
       "    <tr>\n",
       "      <th>95</th>\n",
       "      <td>96</td>\n",
       "      <td>2300</td>\n",
       "      <td>15</td>\n",
       "      <td>260</td>\n",
       "      <td>75</td>\n",
       "      <td>26.2</td>\n",
       "    </tr>\n",
       "    <tr>\n",
       "      <th>96</th>\n",
       "      <td>97</td>\n",
       "      <td>2300</td>\n",
       "      <td>25</td>\n",
       "      <td>420</td>\n",
       "      <td>100</td>\n",
       "      <td>28.2</td>\n",
       "    </tr>\n",
       "    <tr>\n",
       "      <th>97</th>\n",
       "      <td>98</td>\n",
       "      <td>2400</td>\n",
       "      <td>25</td>\n",
       "      <td>260</td>\n",
       "      <td>25</td>\n",
       "      <td>35.8</td>\n",
       "    </tr>\n",
       "    <tr>\n",
       "      <th>98</th>\n",
       "      <td>99</td>\n",
       "      <td>2400</td>\n",
       "      <td>35</td>\n",
       "      <td>180</td>\n",
       "      <td>75</td>\n",
       "      <td>25.2</td>\n",
       "    </tr>\n",
       "    <tr>\n",
       "      <th>99</th>\n",
       "      <td>100</td>\n",
       "      <td>2400</td>\n",
       "      <td>45</td>\n",
       "      <td>100</td>\n",
       "      <td>100</td>\n",
       "      <td>16.4</td>\n",
       "    </tr>\n",
       "  </tbody>\n",
       "</table>\n",
       "<p>100 rows × 6 columns</p>\n",
       "</div>"
      ],
      "text/plain": [
       "    S. NO   RPM  FR  AGS   UP  Temp values\n",
       "0       1   500  10  260    0         16.5\n",
       "1       2   500  10  100    0         11.9\n",
       "2       3   700  15  180   25         15.8\n",
       "3       4   800  15  180   75         12.8\n",
       "4       5   900  15  340    0         26.2\n",
       "..    ...   ...  ..  ...  ...          ...\n",
       "95     96  2300  15  260   75         26.2\n",
       "96     97  2300  25  420  100         28.2\n",
       "97     98  2400  25  260   25         35.8\n",
       "98     99  2400  35  180   75         25.2\n",
       "99    100  2400  45  100  100         16.4\n",
       "\n",
       "[100 rows x 6 columns]"
      ]
     },
     "execution_count": 648,
     "metadata": {},
     "output_type": "execute_result"
    }
   ],
   "source": [
    "df"
   ]
  },
  {
   "cell_type": "code",
   "execution_count": 649,
   "id": "0c6f7d3e",
   "metadata": {},
   "outputs": [],
   "source": [
    "del df['S. NO']"
   ]
  },
  {
   "cell_type": "markdown",
   "id": "631ce97b",
   "metadata": {},
   "source": [
    "splitting the data"
   ]
  },
  {
   "cell_type": "code",
   "execution_count": 650,
   "id": "a50fa3ad",
   "metadata": {},
   "outputs": [],
   "source": [
    "x=df.drop(\"Temp values\",axis=1) # dividing table in dependent table and independent table\n",
    "y=df['Temp values']"
   ]
  },
  {
   "cell_type": "code",
   "execution_count": 651,
   "id": "b31a2c0e",
   "metadata": {},
   "outputs": [
    {
     "data": {
      "text/plain": [
       "LinearRegression()"
      ]
     },
     "execution_count": 651,
     "metadata": {},
     "output_type": "execute_result"
    }
   ],
   "source": [
    "from sklearn.linear_model import LinearRegression\n",
    "ml=LinearRegression()\n",
    "ml.fit(x_train,y_train)   # fitting in model"
   ]
  },
  {
   "cell_type": "code",
   "execution_count": 652,
   "id": "7a6515c2",
   "metadata": {},
   "outputs": [],
   "source": [
    "from sklearn.model_selection import train_test_split        #dividing the dataset in test and train data\n",
    "x_train,x_test,y_train,y_test=train_test_split(x,y,test_size=0.3,random_state=0)"
   ]
  },
  {
   "cell_type": "code",
   "execution_count": 653,
   "id": "8ca02de9",
   "metadata": {},
   "outputs": [
    {
     "data": {
      "text/plain": [
       "26    33.4\n",
       "86    31.0\n",
       "2     15.8\n",
       "55    20.1\n",
       "75    38.4\n",
       "93    32.8\n",
       "16    29.1\n",
       "73    21.3\n",
       "54    19.2\n",
       "95    26.2\n",
       "53    20.8\n",
       "92    16.1\n",
       "78    28.0\n",
       "13    25.4\n",
       "7     25.4\n",
       "30    23.2\n",
       "22    28.8\n",
       "24    18.7\n",
       "33    15.4\n",
       "8     23.7\n",
       "43    21.1\n",
       "62    23.6\n",
       "3     12.8\n",
       "71    21.6\n",
       "45    32.0\n",
       "48    22.9\n",
       "6     18.0\n",
       "99    16.4\n",
       "82    39.8\n",
       "76    27.2\n",
       "Name: Temp values, dtype: float64"
      ]
     },
     "execution_count": 653,
     "metadata": {},
     "output_type": "execute_result"
    }
   ],
   "source": [
    "y_test"
   ]
  },
  {
   "cell_type": "code",
   "execution_count": 654,
   "id": "65e7af8f",
   "metadata": {},
   "outputs": [],
   "source": [
    "y_pred=ml.predict(x_test)"
   ]
  },
  {
   "cell_type": "code",
   "execution_count": 655,
   "id": "30645648",
   "metadata": {},
   "outputs": [
    {
     "data": {
      "text/plain": [
       "array([32.63716705, 33.26776131, 19.63117364, 20.42298121, 39.3270062 ,\n",
       "       32.9323827 , 26.71895419, 22.34031319, 21.39302931, 26.866844  ,\n",
       "       20.98960865, 20.29749124, 27.16631708, 26.49259515, 25.01558608,\n",
       "       27.60460362, 26.91330076, 20.54754283, 17.19965854, 22.89058402,\n",
       "       21.65955131, 23.13637819, 14.95324175, 23.6537082 , 30.51216499,\n",
       "       21.7056437 , 17.16357083, 24.757384  , 38.04434371, 25.93917742])"
      ]
     },
     "execution_count": 655,
     "metadata": {},
     "output_type": "execute_result"
    }
   ],
   "source": [
    "y_pred"
   ]
  },
  {
   "cell_type": "code",
   "execution_count": 656,
   "id": "3b636f26",
   "metadata": {},
   "outputs": [
    {
     "name": "stderr",
     "output_type": "stream",
     "text": [
      "C:\\Users\\sidhu\\anaconda3\\lib\\site-packages\\sklearn\\base.py:450: UserWarning: X does not have valid feature names, but LinearRegression was fitted with feature names\n",
      "  warnings.warn(\n"
     ]
    },
    {
     "data": {
      "text/plain": [
       "array([22.66440716, 17.78288044])"
      ]
     },
     "execution_count": 656,
     "metadata": {},
     "output_type": "execute_result"
    }
   ],
   "source": [
    "ml.predict([[500,10,260,0],[500,10,100,0]])"
   ]
  },
  {
   "cell_type": "code",
   "execution_count": 657,
   "id": "bc947827",
   "metadata": {},
   "outputs": [
    {
     "data": {
      "text/html": [
       "<div>\n",
       "<style scoped>\n",
       "    .dataframe tbody tr th:only-of-type {\n",
       "        vertical-align: middle;\n",
       "    }\n",
       "\n",
       "    .dataframe tbody tr th {\n",
       "        vertical-align: top;\n",
       "    }\n",
       "\n",
       "    .dataframe thead th {\n",
       "        text-align: right;\n",
       "    }\n",
       "</style>\n",
       "<table border=\"1\" class=\"dataframe\">\n",
       "  <thead>\n",
       "    <tr style=\"text-align: right;\">\n",
       "      <th></th>\n",
       "      <th>RPM</th>\n",
       "      <th>FR</th>\n",
       "      <th>AGS</th>\n",
       "      <th>UP</th>\n",
       "      <th>Temp values</th>\n",
       "    </tr>\n",
       "  </thead>\n",
       "  <tbody>\n",
       "    <tr>\n",
       "      <th>0</th>\n",
       "      <td>500</td>\n",
       "      <td>10</td>\n",
       "      <td>260</td>\n",
       "      <td>0</td>\n",
       "      <td>16.5</td>\n",
       "    </tr>\n",
       "    <tr>\n",
       "      <th>1</th>\n",
       "      <td>500</td>\n",
       "      <td>10</td>\n",
       "      <td>100</td>\n",
       "      <td>0</td>\n",
       "      <td>11.9</td>\n",
       "    </tr>\n",
       "    <tr>\n",
       "      <th>2</th>\n",
       "      <td>700</td>\n",
       "      <td>15</td>\n",
       "      <td>180</td>\n",
       "      <td>25</td>\n",
       "      <td>15.8</td>\n",
       "    </tr>\n",
       "    <tr>\n",
       "      <th>3</th>\n",
       "      <td>800</td>\n",
       "      <td>15</td>\n",
       "      <td>180</td>\n",
       "      <td>75</td>\n",
       "      <td>12.8</td>\n",
       "    </tr>\n",
       "    <tr>\n",
       "      <th>4</th>\n",
       "      <td>900</td>\n",
       "      <td>15</td>\n",
       "      <td>340</td>\n",
       "      <td>0</td>\n",
       "      <td>26.2</td>\n",
       "    </tr>\n",
       "    <tr>\n",
       "      <th>...</th>\n",
       "      <td>...</td>\n",
       "      <td>...</td>\n",
       "      <td>...</td>\n",
       "      <td>...</td>\n",
       "      <td>...</td>\n",
       "    </tr>\n",
       "    <tr>\n",
       "      <th>95</th>\n",
       "      <td>2300</td>\n",
       "      <td>15</td>\n",
       "      <td>260</td>\n",
       "      <td>75</td>\n",
       "      <td>26.2</td>\n",
       "    </tr>\n",
       "    <tr>\n",
       "      <th>96</th>\n",
       "      <td>2300</td>\n",
       "      <td>25</td>\n",
       "      <td>420</td>\n",
       "      <td>100</td>\n",
       "      <td>28.2</td>\n",
       "    </tr>\n",
       "    <tr>\n",
       "      <th>97</th>\n",
       "      <td>2400</td>\n",
       "      <td>25</td>\n",
       "      <td>260</td>\n",
       "      <td>25</td>\n",
       "      <td>35.8</td>\n",
       "    </tr>\n",
       "    <tr>\n",
       "      <th>98</th>\n",
       "      <td>2400</td>\n",
       "      <td>35</td>\n",
       "      <td>180</td>\n",
       "      <td>75</td>\n",
       "      <td>25.2</td>\n",
       "    </tr>\n",
       "    <tr>\n",
       "      <th>99</th>\n",
       "      <td>2400</td>\n",
       "      <td>45</td>\n",
       "      <td>100</td>\n",
       "      <td>100</td>\n",
       "      <td>16.4</td>\n",
       "    </tr>\n",
       "  </tbody>\n",
       "</table>\n",
       "<p>100 rows × 5 columns</p>\n",
       "</div>"
      ],
      "text/plain": [
       "     RPM  FR  AGS   UP  Temp values\n",
       "0    500  10  260    0         16.5\n",
       "1    500  10  100    0         11.9\n",
       "2    700  15  180   25         15.8\n",
       "3    800  15  180   75         12.8\n",
       "4    900  15  340    0         26.2\n",
       "..   ...  ..  ...  ...          ...\n",
       "95  2300  15  260   75         26.2\n",
       "96  2300  25  420  100         28.2\n",
       "97  2400  25  260   25         35.8\n",
       "98  2400  35  180   75         25.2\n",
       "99  2400  45  100  100         16.4\n",
       "\n",
       "[100 rows x 5 columns]"
      ]
     },
     "execution_count": 657,
     "metadata": {},
     "output_type": "execute_result"
    }
   ],
   "source": [
    "df"
   ]
  },
  {
   "cell_type": "code",
   "execution_count": 658,
   "id": "3bcb5a0a",
   "metadata": {},
   "outputs": [],
   "source": [
    "from sklearn.metrics import r2_score"
   ]
  },
  {
   "cell_type": "code",
   "execution_count": 659,
   "id": "1b09bcda",
   "metadata": {},
   "outputs": [
    {
     "name": "stdout",
     "output_type": "stream",
     "text": [
      "0.8720024620161145\n"
     ]
    }
   ],
   "source": [
    "q=r2_score(y_test,y_pred)\n",
    "r2_score_MLR=q\n",
    "print(r2_score_MLR)"
   ]
  },
  {
   "cell_type": "code",
   "execution_count": 660,
   "id": "db3b81cf",
   "metadata": {},
   "outputs": [
    {
     "data": {
      "text/plain": [
       "1.736456294407739"
      ]
     },
     "execution_count": 660,
     "metadata": {},
     "output_type": "execute_result"
    }
   ],
   "source": [
    "MAE_MLR=(np.absolute(y_test-y_pred)).mean()\n",
    "MAE_MLR"
   ]
  },
  {
   "cell_type": "code",
   "execution_count": 662,
   "id": "a062c7ba",
   "metadata": {},
   "outputs": [],
   "source": [
    "from sklearn.metrics import mean_squared_error"
   ]
  },
  {
   "cell_type": "code",
   "execution_count": 663,
   "id": "82cb7943",
   "metadata": {},
   "outputs": [
    {
     "data": {
      "text/plain": [
       "5.71960696187645"
      ]
     },
     "execution_count": 663,
     "metadata": {},
     "output_type": "execute_result"
    }
   ],
   "source": [
    "MSE_MLR = np.square(np.subtract(y_test,y_pred)).mean()\n",
    "MSE_MLR"
   ]
  },
  {
   "cell_type": "code",
   "execution_count": 696,
   "id": "ea0a1d8b",
   "metadata": {},
   "outputs": [
    {
     "data": {
      "text/plain": [
       "2.391569978461105"
      ]
     },
     "execution_count": 696,
     "metadata": {},
     "output_type": "execute_result"
    }
   ],
   "source": [
    "RMSE_MLR=np.sqrt(MSE_MLR)\n",
    "RMSE_MLR"
   ]
  },
  {
   "cell_type": "code",
   "execution_count": 664,
   "id": "56a321fc",
   "metadata": {},
   "outputs": [
    {
     "data": {
      "text/plain": [
       "Text(0.5, 1.0, 'actual vs predicted')"
      ]
     },
     "execution_count": 664,
     "metadata": {},
     "output_type": "execute_result"
    },
    {
     "data": {
      "image/png": "[encoded data removed]",
      "text/plain": [
       "<Figure size 432x288 with 1 Axes>"
      ]
     },
     "metadata": {
      "needs_background": "light"
     },
     "output_type": "display_data"
    }
   ],
   "source": [
    "import matplotlib.pyplot as plt\n",
    "plt.scatter(y_test,y_pred)\n",
    "plt.xlabel('actual')\n",
    "plt.ylabel('pred')\n",
    "plt.title(\"actual vs predicted\")"
   ]
  },
  {
   "cell_type": "code",
   "execution_count": 665,
   "id": "f793d833",
   "metadata": {},
   "outputs": [
    {
     "name": "stdout",
     "output_type": "stream",
     "text": [
      "                  RPM        FR       AGS        UP  Temp values\n",
      "RPM          1.000000  0.142965 -0.160122  0.199347     0.391494\n",
      "FR           0.142965  1.000000 -0.070627  0.086400     0.251216\n",
      "AGS         -0.160122 -0.070627  1.000000 -0.058233     0.494843\n",
      "UP           0.199347  0.086400 -0.058233  1.000000    -0.499761\n",
      "Temp values  0.391494  0.251216  0.494843 -0.499761     1.000000\n"
     ]
    }
   ],
   "source": [
    "print(df.corr()) # correlation matrix of columns"
   ]
  },
  {
   "cell_type": "code",
   "execution_count": 666,
   "id": "2fa705ab",
   "metadata": {},
   "outputs": [
    {
     "data": {
      "image/png": "[encoded data removed]",
      "text/plain": [
       "<Figure size 432x288 with 2 Axes>"
      ]
     },
     "metadata": {
      "needs_background": "light"
     },
     "output_type": "display_data"
    }
   ],
   "source": [
    "dataplot = sns.heatmap(df.corr(), cmap=\"YlGnBu\", annot=True)  # heatmap of correlation between columns"
   ]
  },
  {
   "cell_type": "markdown",
   "id": "39ab12f0",
   "metadata": {},
   "source": [
    "RIDGE REGRESSION"
   ]
  },
  {
   "cell_type": "code",
   "execution_count": 667,
   "id": "4ba861f8",
   "metadata": {},
   "outputs": [],
   "source": [
    "from sklearn.pipeline import make_pipeline\n",
    "\n",
    "model = make_pipeline(StandardScaler(with_mean=False), Ridge())\n"
   ]
  },
  {
   "cell_type": "code",
   "execution_count": 668,
   "id": "d810ca66",
   "metadata": {},
   "outputs": [
    {
     "name": "stderr",
     "output_type": "stream",
     "text": [
      "C:\\Users\\sidhu\\anaconda3\\lib\\site-packages\\sklearn\\linear_model\\_base.py:148: FutureWarning: 'normalize' was deprecated in version 1.0 and will be removed in 1.2. Please leave the normalize parameter to its default value to silence this warning. The default behavior of this estimator is to not do any normalization. If normalization is needed please use sklearn.preprocessing.StandardScaler instead.\n",
      "  warnings.warn(\n"
     ]
    }
   ],
   "source": [
    "ridge=Ridge(0.9,normalize=False)        #Fitting the data in Ridge Regession model \n",
    "ridge.fit(x_train,y_train)              \n",
    "y_pred = ridge.predict(x_test)"
   ]
  },
  {
   "cell_type": "code",
   "execution_count": 669,
   "id": "d7c3431c",
   "metadata": {},
   "outputs": [
    {
     "data": {
      "text/plain": [
       "array([[32.63727656],\n",
       "       [33.26733343],\n",
       "       [19.63133114],\n",
       "       [20.42324311],\n",
       "       [39.32653419],\n",
       "       [32.93214762],\n",
       "       [26.71874844],\n",
       "       [22.34017654],\n",
       "       [21.39289317],\n",
       "       [26.86706285],\n",
       "       [20.98949863],\n",
       "       [20.29758779],\n",
       "       [27.16619509],\n",
       "       [26.49273525],\n",
       "       [25.01575289],\n",
       "       [27.60452332],\n",
       "       [26.91326162],\n",
       "       [20.54743306],\n",
       "       [17.19971604],\n",
       "       [22.8907656 ],\n",
       "       [21.65922112],\n",
       "       [23.13634968],\n",
       "       [14.9534808 ],\n",
       "       [23.65397336],\n",
       "       [30.51228927],\n",
       "       [21.70571229],\n",
       "       [17.16380865],\n",
       "       [24.75709288],\n",
       "       [38.04406501],\n",
       "       [25.93920418]])"
      ]
     },
     "execution_count": 669,
     "metadata": {},
     "output_type": "execute_result"
    }
   ],
   "source": [
    "y_pred.reshape(-1, 1)"
   ]
  },
  {
   "cell_type": "code",
   "execution_count": 670,
   "id": "a364b2d7",
   "metadata": {},
   "outputs": [],
   "source": [
    "from sklearn import preprocessing"
   ]
  },
  {
   "cell_type": "code",
   "execution_count": 671,
   "id": "147c9f65",
   "metadata": {},
   "outputs": [],
   "source": [
    "scaler=preprocessing.StandardScaler().fit(x_train)"
   ]
  },
  {
   "cell_type": "code",
   "execution_count": 672,
   "id": "7ef00dbd",
   "metadata": {},
   "outputs": [],
   "source": [
    "x_train_s=scaler.transform(x_train)"
   ]
  },
  {
   "cell_type": "code",
   "execution_count": 673,
   "id": "fe590937",
   "metadata": {},
   "outputs": [],
   "source": [
    "x_test_s=scaler.transform(x_test)"
   ]
  },
  {
   "cell_type": "code",
   "execution_count": 674,
   "id": "45e05b4e",
   "metadata": {},
   "outputs": [],
   "source": [
    "from sklearn.linear_model import Ridge"
   ]
  },
  {
   "cell_type": "code",
   "execution_count": 675,
   "id": "fcef2dde",
   "metadata": {},
   "outputs": [
    {
     "data": {
      "text/plain": [
       "Ridge(alpha=0.5)"
      ]
     },
     "execution_count": 675,
     "metadata": {},
     "output_type": "execute_result"
    }
   ],
   "source": [
    "lm_r=Ridge(alpha=0.5)          #Fitting in the model by taking lambda as 0.5\n",
    "lm_r.fit(x_train_s,y_train)"
   ]
  },
  {
   "cell_type": "code",
   "execution_count": 676,
   "id": "53d46ca1",
   "metadata": {},
   "outputs": [
    {
     "data": {
      "text/plain": [
       "0.8705904070302215"
      ]
     },
     "execution_count": 676,
     "metadata": {},
     "output_type": "execute_result"
    }
   ],
   "source": [
    "r=r2_score(y_test,lm_r.predict(x_test_s))\n",
    "r2_score_ridge=r\n",
    "r2_score_ridge "
   ]
  },
  {
   "cell_type": "code",
   "execution_count": 677,
   "id": "c8a325ee",
   "metadata": {},
   "outputs": [],
   "source": [
    "MSE_ridge = np.square(np.subtract(y_test,y_pred)).mean()\n"
   ]
  },
  {
   "cell_type": "code",
   "execution_count": 678,
   "id": "87921eeb",
   "metadata": {},
   "outputs": [],
   "source": [
    "from sklearn.metrics import mean_squared_error"
   ]
  },
  {
   "cell_type": "code",
   "execution_count": 679,
   "id": "a51463b2",
   "metadata": {},
   "outputs": [
    {
     "data": {
      "text/plain": [
       "5.719463943558995"
      ]
     },
     "execution_count": 679,
     "metadata": {},
     "output_type": "execute_result"
    }
   ],
   "source": [
    "MSE_ridge"
   ]
  },
  {
   "cell_type": "code",
   "execution_count": 697,
   "id": "dc9aa9d1",
   "metadata": {},
   "outputs": [
    {
     "data": {
      "text/plain": [
       "2.3915400777655798"
      ]
     },
     "execution_count": 697,
     "metadata": {},
     "output_type": "execute_result"
    }
   ],
   "source": [
    "RMSE_ridge=np.sqrt(MSE_ridge)\n",
    "RMSE_ridge"
   ]
  },
  {
   "cell_type": "code",
   "execution_count": 681,
   "id": "09a86d3a",
   "metadata": {},
   "outputs": [
    {
     "data": {
      "text/plain": [
       "1.7364185011386477"
      ]
     },
     "execution_count": 681,
     "metadata": {},
     "output_type": "execute_result"
    }
   ],
   "source": [
    "MAE_ridge=(np.absolute(y_test-y_pred)).mean()\n",
    "MAE_ridge"
   ]
  },
  {
   "cell_type": "markdown",
   "id": "9f63f777",
   "metadata": {},
   "source": [
    "Lasso Regression"
   ]
  },
  {
   "cell_type": "code",
   "execution_count": 682,
   "id": "c1ea95af",
   "metadata": {},
   "outputs": [],
   "source": [
    "from sklearn.linear_model import Lasso"
   ]
  },
  {
   "cell_type": "code",
   "execution_count": 683,
   "id": "0c3c2a1e",
   "metadata": {},
   "outputs": [
    {
     "data": {
      "text/plain": [
       "0.8102034997326012"
      ]
     },
     "execution_count": 683,
     "metadata": {},
     "output_type": "execute_result"
    }
   ],
   "source": [
    "lm_l=Lasso(alpha=0.5)\n",
    "lm_l.fit(x_train_s,y_train)\n",
    "y_pred=lm_l.predict(x_test_s)\n",
    "\n",
    "\n",
    "s=r2_score(y_test,y_pred)\n",
    "r2_score_lasso=s\n",
    "r2_score_lasso"
   ]
  },
  {
   "cell_type": "code",
   "execution_count": 684,
   "id": "3b69f34a",
   "metadata": {},
   "outputs": [],
   "source": [
    "MSE_lasso = np.square(np.subtract(y_test,y_pred)).mean()"
   ]
  },
  {
   "cell_type": "code",
   "execution_count": 685,
   "id": "829dc72c",
   "metadata": {},
   "outputs": [
    {
     "data": {
      "text/plain": [
       "8.481111444548795"
      ]
     },
     "execution_count": 685,
     "metadata": {},
     "output_type": "execute_result"
    }
   ],
   "source": [
    "MSE_lasso"
   ]
  },
  {
   "cell_type": "code",
   "execution_count": 698,
   "id": "b331bfc6",
   "metadata": {},
   "outputs": [],
   "source": [
    "RMSE_lasso=np.sqrt(MSE_lasso)"
   ]
  },
  {
   "cell_type": "code",
   "execution_count": 700,
   "id": "650cb5c9",
   "metadata": {},
   "outputs": [
    {
     "data": {
      "text/plain": [
       "2.9122347852720933"
      ]
     },
     "execution_count": 700,
     "metadata": {},
     "output_type": "execute_result"
    }
   ],
   "source": [
    "RMSE_lasso"
   ]
  },
  {
   "cell_type": "code",
   "execution_count": 688,
   "id": "69eb4e9e",
   "metadata": {},
   "outputs": [],
   "source": [
    "MAE_lasso=(np.absolute(y_test-y_pred)).mean()"
   ]
  },
  {
   "cell_type": "code",
   "execution_count": 689,
   "id": "213bd572",
   "metadata": {},
   "outputs": [
    {
     "data": {
      "text/plain": [
       "2.2661210293716594"
      ]
     },
     "execution_count": 689,
     "metadata": {},
     "output_type": "execute_result"
    }
   ],
   "source": [
    "MAE_lasso"
   ]
  },
  {
   "cell_type": "code",
   "execution_count": 690,
   "id": "fce78dff",
   "metadata": {},
   "outputs": [],
   "source": [
    "import seaborn as sns"
   ]
  },
  {
   "cell_type": "code",
   "execution_count": 691,
   "id": "b1b15cff",
   "metadata": {
    "scrolled": true
   },
   "outputs": [
    {
     "data": {
      "text/plain": [
       "<seaborn.axisgrid.PairGrid at 0x19b99258400>"
      ]
     },
     "execution_count": 691,
     "metadata": {},
     "output_type": "execute_result"
    },
    {
     "data": {
      "image/png": "[encoded data removed]",
      "text/plain": [
       "<Figure size 900x900 with 30 Axes>"
      ]
     },
     "metadata": {
      "needs_background": "light"
     },
     "output_type": "display_data"
    }
   ],
   "source": [
    "sns.pairplot(df)"
   ]
  },
  {
   "cell_type": "code",
   "execution_count": 692,
   "id": "217f1a9f",
   "metadata": {},
   "outputs": [
    {
     "data": {
      "text/html": [
       "<div>\n",
       "<style scoped>\n",
       "    .dataframe tbody tr th:only-of-type {\n",
       "        vertical-align: middle;\n",
       "    }\n",
       "\n",
       "    .dataframe tbody tr th {\n",
       "        vertical-align: top;\n",
       "    }\n",
       "\n",
       "    .dataframe thead th {\n",
       "        text-align: right;\n",
       "    }\n",
       "</style>\n",
       "<table border=\"1\" class=\"dataframe\">\n",
       "  <thead>\n",
       "    <tr style=\"text-align: right;\">\n",
       "      <th></th>\n",
       "      <th>RPM</th>\n",
       "      <th>FR</th>\n",
       "      <th>AGS</th>\n",
       "      <th>UP</th>\n",
       "      <th>Temp values</th>\n",
       "    </tr>\n",
       "  </thead>\n",
       "  <tbody>\n",
       "    <tr>\n",
       "      <th>0</th>\n",
       "      <td>500</td>\n",
       "      <td>10</td>\n",
       "      <td>260</td>\n",
       "      <td>0</td>\n",
       "      <td>16.5</td>\n",
       "    </tr>\n",
       "    <tr>\n",
       "      <th>1</th>\n",
       "      <td>500</td>\n",
       "      <td>10</td>\n",
       "      <td>100</td>\n",
       "      <td>0</td>\n",
       "      <td>11.9</td>\n",
       "    </tr>\n",
       "    <tr>\n",
       "      <th>2</th>\n",
       "      <td>700</td>\n",
       "      <td>15</td>\n",
       "      <td>180</td>\n",
       "      <td>25</td>\n",
       "      <td>15.8</td>\n",
       "    </tr>\n",
       "    <tr>\n",
       "      <th>3</th>\n",
       "      <td>800</td>\n",
       "      <td>15</td>\n",
       "      <td>180</td>\n",
       "      <td>75</td>\n",
       "      <td>12.8</td>\n",
       "    </tr>\n",
       "    <tr>\n",
       "      <th>4</th>\n",
       "      <td>900</td>\n",
       "      <td>15</td>\n",
       "      <td>340</td>\n",
       "      <td>0</td>\n",
       "      <td>26.2</td>\n",
       "    </tr>\n",
       "    <tr>\n",
       "      <th>...</th>\n",
       "      <td>...</td>\n",
       "      <td>...</td>\n",
       "      <td>...</td>\n",
       "      <td>...</td>\n",
       "      <td>...</td>\n",
       "    </tr>\n",
       "    <tr>\n",
       "      <th>95</th>\n",
       "      <td>2300</td>\n",
       "      <td>15</td>\n",
       "      <td>260</td>\n",
       "      <td>75</td>\n",
       "      <td>26.2</td>\n",
       "    </tr>\n",
       "    <tr>\n",
       "      <th>96</th>\n",
       "      <td>2300</td>\n",
       "      <td>25</td>\n",
       "      <td>420</td>\n",
       "      <td>100</td>\n",
       "      <td>28.2</td>\n",
       "    </tr>\n",
       "    <tr>\n",
       "      <th>97</th>\n",
       "      <td>2400</td>\n",
       "      <td>25</td>\n",
       "      <td>260</td>\n",
       "      <td>25</td>\n",
       "      <td>35.8</td>\n",
       "    </tr>\n",
       "    <tr>\n",
       "      <th>98</th>\n",
       "      <td>2400</td>\n",
       "      <td>35</td>\n",
       "      <td>180</td>\n",
       "      <td>75</td>\n",
       "      <td>25.2</td>\n",
       "    </tr>\n",
       "    <tr>\n",
       "      <th>99</th>\n",
       "      <td>2400</td>\n",
       "      <td>45</td>\n",
       "      <td>100</td>\n",
       "      <td>100</td>\n",
       "      <td>16.4</td>\n",
       "    </tr>\n",
       "  </tbody>\n",
       "</table>\n",
       "<p>100 rows × 5 columns</p>\n",
       "</div>"
      ],
      "text/plain": [
       "     RPM  FR  AGS   UP  Temp values\n",
       "0    500  10  260    0         16.5\n",
       "1    500  10  100    0         11.9\n",
       "2    700  15  180   25         15.8\n",
       "3    800  15  180   75         12.8\n",
       "4    900  15  340    0         26.2\n",
       "..   ...  ..  ...  ...          ...\n",
       "95  2300  15  260   75         26.2\n",
       "96  2300  25  420  100         28.2\n",
       "97  2400  25  260   25         35.8\n",
       "98  2400  35  180   75         25.2\n",
       "99  2400  45  100  100         16.4\n",
       "\n",
       "[100 rows x 5 columns]"
      ]
     },
     "execution_count": 692,
     "metadata": {},
     "output_type": "execute_result"
    }
   ],
   "source": [
    "df "
   ]
  },
  {
   "cell_type": "code",
   "execution_count": 693,
   "id": "45a78d02",
   "metadata": {},
   "outputs": [
    {
     "name": "stdout",
     "output_type": "stream",
     "text": [
      "Requirement already satisfied: tabulate in c:\\users\\sidhu\\anaconda3\\lib\\site-packages (0.8.9)\n"
     ]
    }
   ],
   "source": [
    "# table in\n",
    "!pip install tabulate"
   ]
  },
  {
   "cell_type": "code",
   "execution_count": 694,
   "id": "9515fef8",
   "metadata": {},
   "outputs": [],
   "source": [
    "from tabulate import tabulate"
   ]
  },
  {
   "cell_type": "code",
   "execution_count": 701,
   "id": "fc90ea2c",
   "metadata": {},
   "outputs": [
    {
     "name": "stdout",
     "output_type": "stream",
     "text": [
      "+--------------+-------------+---------+---------+---------+\n",
      "| MOdel Name   |   r2_score  |   RMSE  |    MSE  |    MAE  |\n",
      "+==============+=============+=========+=========+=========+\n",
      "| MLR          |    0.872002 | 2.39157 | 5.71961 | 1.73646 |\n",
      "+--------------+-------------+---------+---------+---------+\n",
      "| Ridge        |    0.87059  | 2.39154 | 5.71946 | 1.73642 |\n",
      "+--------------+-------------+---------+---------+---------+\n",
      "| Lasso        |    0.810203 | 2.91223 | 8.48111 | 2.26612 |\n",
      "+--------------+-------------+---------+---------+---------+\n"
     ]
    }
   ],
   "source": [
    "mydata=[['MLR',r2_score_MLR,RMSE_MLR,MSE_MLR,MAE_MLR],\n",
    "       ['Ridge',r2_score_ridge,RMSE_ridge,MSE_ridge,MAE_ridge],\n",
    "       ['Lasso',r2_score_lasso,RMSE_lasso,MSE_lasso,MAE_lasso]]\n",
    "\n",
    "head=['MOdel Name','r2_score ','RMSE ','MSE ','MAE ']\n",
    "print(tabulate(mydata, headers=head, tablefmt=\"grid\"))"
   ]
  },
  {
   "cell_type": "code",
   "execution_count": null,
   "id": "dbd29e0e",
   "metadata": {},
   "outputs": [],
   "source": []
  },
  {
   "cell_type": "code",
   "execution_count": null,
   "id": "b0a2206c",
   "metadata": {},
   "outputs": [],
   "source": []
  }
 ],
 "metadata": {
  "kernelspec": {
   "display_name": "Python 3 (ipykernel)",
   "language": "python",
   "name": "python3"
  },
  "language_info": {
   "codemirror_mode": {
    "name": "ipython",
    "version": 3
   },
   "file_extension": ".py",
   "mimetype": "text/x-python",
   "name": "python",
   "nbconvert_exporter": "python",
   "pygments_lexer": "ipython3",
   "version": "3.9.12"
  }
 },
 "nbformat": 4,
 "nbformat_minor": 5
}
